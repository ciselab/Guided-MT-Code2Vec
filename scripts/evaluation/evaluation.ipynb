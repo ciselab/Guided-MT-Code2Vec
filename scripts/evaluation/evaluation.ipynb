{
 "cells": [
  {
   "cell_type": "markdown",
   "metadata": {
    "collapsed": true
   },
   "source": [
    "# Guided-MT Code2Vec Evaluation\n",
    "\n",
    "This Notebook runs over the experiment-outputs, extracts data and makes plots.\n",
    "\n",
    "Expected Layout:\n",
    "\n",
    "```\n",
    ".\n",
    "├── README.md\n",
    "├── data\n",
    "│   └── random-MRR-max\n",
    "│       ├── seed-2880\n",
    "│       │   ├── data\n",
    "│       │   │   ├── gen0\n",
    "│       │   │   │   ├── 3b2459\n",
    "│       │   │   │   ├── 3b2459.json\n",
    "│       │   │   │   ├── 447e22\n",
    "│       │   │   │   ├── 447e22.json\n",
    "│       │   │   │   ├── 4495c7\n",
    "│       │   │   │   ├── 4495c7.json\n",
    "│       │   │   │   ├── 52667b\n",
    "│       │   │   │   ├── 52667b.json\n",
    "│       │   │   │   ├── 6855ba\n",
    "│       │   │   │   ├── 6855ba.json\n",
    "│       │   │   │   ├── 68ec75\n",
    "│       │   │   │   ├── 68ec75.json\n",
    "│       │   │   │   ├── 6cc14d\n",
    "│       │   │   │   ├── 6cc14d.json\n",
    "│       │   │   │   ├── 6d6845\n",
    "│       │   │   │   ├── 6d6845.json\n",
    "│       │   │   │   ├── 7a2d67\n",
    "│       │   │   │   ├── 7a2d67.json\n",
    "│       │   │   │   ├── ed0dd9\n",
    "│       │   │   │   └── ed0dd9.json\n",
    "│       │   │   ├── gen1\n",
    "│       │   │   ├── ...\n",
    "│       │   │   ├── gen8\n",
    "│       │   │   ├── ...\n",
    "│       │   │   ├── generation_0\n",
    "│       │   │   │   ├── Some.java\n",
    "│       │   │   │   ├── ...\n",
    "│       │   │   │   ├── Other.java\n",
    "│       │   │   │   └── Different.java\n",
    "│       │   │   └── initialGen\n",
    "│       │   │       └── 3bf9ce\n",
    "│       │   └── results.txt\n",
    "│       ├── seed-5142\n",
    "│           └── results.txt\n",
    "│       ...\n",
    "├── evaluation.ipynb\n",
    "└── requirements.txt\n",
    "```"
   ]
  },
  {
   "cell_type": "markdown",
   "source": [
    "## Data Loading\n",
    "\n",
    "Most of this is done in the nearby extract script, but we also extract some highlevel variables."
   ],
   "metadata": {
    "collapsed": false
   }
  },
  {
   "cell_type": "code",
   "execution_count": null,
   "outputs": [],
   "source": [
    "import pandas as pd\n",
    "import seaborn as sbn\n",
    "import matplotlib.pyplot as plt\n",
    "import extract\n",
    "\n",
    "# Important: Specify Directory without / at the end!\n",
    "directory:str = \"./data\""
   ],
   "metadata": {
    "collapsed": false
   }
  },
  {
   "cell_type": "code",
   "execution_count": null,
   "outputs": [],
   "source": [
    "%%time\n",
    "df = extract.make_df(directory)"
   ],
   "metadata": {
    "collapsed": false
   }
  },
  {
   "cell_type": "code",
   "execution_count": null,
   "outputs": [],
   "source": [
    "all_metrics = [\"F1\",\"MRR\",\"EDITDIST\",\"PMRR\",\"REC\",\"PREC\"]\n",
    "all_transformers = extract.get_known_transformers()\n",
    "all_experiments = set(df[\"experiment\"])\n",
    "all_seeds = set(df[\"seed\"])"
   ],
   "metadata": {
    "collapsed": false,
    "pycharm": {
     "name": "#%%"
    }
   }
  },
  {
   "cell_type": "code",
   "execution_count": null,
   "outputs": [],
   "source": [
    "df.to_csv(\"./results.csv\")\n",
    "df.head(5)"
   ],
   "metadata": {
    "collapsed": false
   }
  },
  {
   "cell_type": "markdown",
   "source": [
    "## Per Experiment Plots"
   ],
   "metadata": {
    "collapsed": false
   }
  },
  {
   "cell_type": "code",
   "execution_count": null,
   "outputs": [],
   "source": [
    "broader_grouped_df = df.groupby([\"experiment\",\"generation\"]).mean().reset_index()\n",
    "broader_grouped_df[\"algorithm\"] = broader_grouped_df[\"experiment\"].apply(lambda x: \"random\" if \"random\" in x else \"genetic\")\n",
    "broader_grouped_df.head(5)"
   ],
   "metadata": {
    "collapsed": false
   }
  },
  {
   "cell_type": "code",
   "execution_count": null,
   "outputs": [],
   "source": [
    "sbn.relplot(data=df,x=\"generation\",y=\"F1\", hue=\"algorithm\")"
   ],
   "metadata": {
    "collapsed": false
   }
  },
  {
   "cell_type": "code",
   "execution_count": null,
   "outputs": [],
   "source": [
    "sbn.relplot(data=df,x=\"generation\",y=\"MRR\", hue=\"algorithm\")"
   ],
   "metadata": {
    "collapsed": false
   }
  },
  {
   "cell_type": "code",
   "execution_count": null,
   "outputs": [],
   "source": [
    "sbn.relplot(data=broader_grouped_df,x=\"generation\",y=\"F1\", hue=\"experiment\")"
   ],
   "metadata": {
    "collapsed": false
   }
  },
  {
   "cell_type": "code",
   "execution_count": null,
   "outputs": [],
   "source": [
    "sbn.relplot(data=broader_grouped_df,x=\"generation\",y=\"F1\", hue=\"experiment\")"
   ],
   "metadata": {
    "collapsed": false
   }
  },
  {
   "cell_type": "code",
   "execution_count": null,
   "outputs": [],
   "source": [
    "df.info()"
   ],
   "metadata": {
    "collapsed": false
   }
  },
  {
   "cell_type": "code",
   "execution_count": null,
   "outputs": [],
   "source": [
    "fig, axs = plt.subplots(nrows=2,sharex=True)\n",
    "\n",
    "sbn.lineplot(data=broader_grouped_df,x=\"generation\",y=\"F1\", style=\"algorithm\",hue=\"experiment\",ax=axs[0],legend=None,markers=\"o\")\n",
    "axs[0].set_title(\"MRR and F1 over experiments\")\n",
    "axs[0].set_ylim([0.35,0.7])\n",
    "axs[0].set_xlim([0,26])\n",
    "\n",
    "sbn.lineplot(data=broader_grouped_df,x=\"generation\",y=\"MRR\",style=\"algorithm\", hue=\"experiment\",ax=axs[1],markers=\"o\")\n",
    "axs[1].set_ylim([0.35,0.7])\n",
    "axs[1].set_xlim([0,26])\n",
    "\n",
    "#plt.legend(title=\"Experiment\",bbox_to_anchor=(1.05, 2))\n",
    "plt.legend(bbox_to_anchor=(1.05, 2))\n",
    "\n",
    "plt.savefig(\"./figures/development-f1-mrr-all-experiments.png\")\n",
    "plt.show()"
   ],
   "metadata": {
    "collapsed": false
   }
  },
  {
   "cell_type": "code",
   "execution_count": null,
   "outputs": [],
   "source": [
    "helper_df = broader_grouped_df[broader_grouped_df[\"algorithm\"]==\"genetic\"]\n",
    "used_experiments = helper_df[\"experiment\"].unique().to_list()\n",
    "fig, axs = plt.subplots(nrows=2,sharex=True)\n",
    "\n",
    "sbn.lineplot(data=helper_df,x=\"generation\",y=\"F1\",hue=\"experiment\",ax=axs[0],legend=None,marker='o',hue_order=used_experiments)\n",
    "axs[0].set_title(\"MRR and F1 over genetic experiments\")\n",
    "axs[0].set_ylim([0.35,0.7])\n",
    "\n",
    "sbn.lineplot(data=helper_df,x=\"generation\",y=\"MRR\", hue=\"experiment\",ax=axs[1],marker='o',hue_order=used_experiments)\n",
    "axs[1].set_ylim([0.35,0.7])\n",
    "\n",
    "plt.legend(title=\"Experiment\",bbox_to_anchor=(1.45,1.45))\n",
    "#plt.legend(bbox_to_anchor=(1.45, 1.45))\n",
    "\n",
    "plt.savefig(\"./figures/development-f1-mrr-all-genetic-experiments.png\")\n",
    "plt.show()\n",
    "del helper_df, used_experiments"
   ],
   "metadata": {
    "collapsed": false
   }
  },
  {
   "cell_type": "code",
   "execution_count": null,
   "outputs": [],
   "source": [
    "helper_df = broader_grouped_df[broader_grouped_df[\"algorithm\"]==\"genetic\"]\n",
    "used_experiments = helper_df[\"experiment\"].unique().to_list()\n",
    "sbn.lineplot(data=helper_df,x=\"generation\",y=\"F1\",hue=\"experiment\",markers=True, hue_order=used_experiments)\n",
    "plt.title(\"F1 over genetic experiments\")\n",
    "plt.ylim([0.35,0.55])\n",
    "plt.xlim([0,20])\n",
    "\n",
    "plt.savefig(\"./figures/development-f1-all-genetic-experiments.png\")\n",
    "plt.show()\n",
    "del helper_df,used_experiments"
   ],
   "metadata": {
    "collapsed": false
   }
  },
  {
   "cell_type": "code",
   "execution_count": null,
   "outputs": [],
   "source": [
    "helper_df = broader_grouped_df[broader_grouped_df[\"algorithm\"]==\"genetic\"]\n",
    "used_experiments = helper_df[\"experiment\"].unique().to_list()\n",
    "sbn.lineplot(data=helper_df,x=\"generation\",y=\"MRR\",hue=\"experiment\",markers=True, hue_order=used_experiments)\n",
    "plt.title(\"MRR over genetic experiments\")\n",
    "plt.ylim([0.3,0.7])\n",
    "\n",
    "plt.savefig(\"./figures/development-mrr-all-genetic-experiments.png\")\n",
    "plt.show()\n",
    "del helper_df,used_experiments"
   ],
   "metadata": {
    "collapsed": false
   }
  },
  {
   "cell_type": "code",
   "execution_count": null,
   "outputs": [],
   "source": [
    "for exp in all_experiments:\n",
    "    sbn.relplot(data=broader_grouped_df[broader_grouped_df[\"experiment\"]==exp],x=\"generation\",y=\"F1\",kind=\"line\")\n",
    "    plt.title(f\"F1 Score for {exp}\")\n",
    "    plt.show()\n",
    "\n",
    "\n",
    "for exp in all_experiments:\n",
    "    sbn.relplot(data=broader_grouped_df[broader_grouped_df[\"experiment\"]==exp],x=\"generation\",y=\"MRR\",kind=\"line\")\n",
    "    plt.title(f\"MRR Score for {exp}\")\n",
    "    plt.show()"
   ],
   "metadata": {
    "collapsed": false
   }
  },
  {
   "cell_type": "markdown",
   "source": [
    "## Notes\n",
    "\n",
    "Things I saw / take away from plots:\n",
    "\n",
    "- There are two interesting values, F1 and MRR both for F1-max.\n",
    "- MRR seems to be shaky but not moving much, this could be because the model was trained with F1\n",
    "- More movement with more generations\n",
    "- There is a base-line jump for MRR min and max experiments?\n",
    "- The F1 min maximizes MRR ..."
   ],
   "metadata": {
    "collapsed": false
   }
  }
 ],
 "metadata": {
  "kernelspec": {
   "display_name": "Python 3",
   "language": "python",
   "name": "python3"
  },
  "language_info": {
   "codemirror_mode": {
    "name": "ipython",
    "version": 2
   },
   "file_extension": ".py",
   "mimetype": "text/x-python",
   "name": "python",
   "nbconvert_exporter": "python",
   "pygments_lexer": "ipython2",
   "version": "2.7.6"
  }
 },
 "nbformat": 4,
 "nbformat_minor": 0
}
