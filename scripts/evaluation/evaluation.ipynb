{
 "cells": [
  {
   "cell_type": "markdown",
   "metadata": {
    "collapsed": true,
    "pycharm": {
     "name": "#%% md\n"
    }
   },
   "source": [
    "# Guided-MT Code2Vec Evaluation\n",
    "\n",
    "This Notebook runs over the experiment-outputs, extracts data and makes plots.\n",
    "\n",
    "Expected Layout:\n",
    "\n",
    "```\n",
    ".\n",
    "├── README.md\n",
    "├── data\n",
    "│   └── random-MRR-max\n",
    "│       ├── seed-2880\n",
    "│       │   ├── data\n",
    "│       │   │   ├── gen0\n",
    "│       │   │   │   ├── 3b2459\n",
    "│       │   │   │   ├── 3b2459.json\n",
    "│       │   │   │   ├── 447e22\n",
    "│       │   │   │   ├── 447e22.json\n",
    "│       │   │   │   ├── 4495c7\n",
    "│       │   │   │   ├── 4495c7.json\n",
    "│       │   │   │   ├── 52667b\n",
    "│       │   │   │   ├── 52667b.json\n",
    "│       │   │   │   ├── 6855ba\n",
    "│       │   │   │   ├── 6855ba.json\n",
    "│       │   │   │   ├── 68ec75\n",
    "│       │   │   │   ├── 68ec75.json\n",
    "│       │   │   │   ├── 6cc14d\n",
    "│       │   │   │   ├── 6cc14d.json\n",
    "│       │   │   │   ├── 6d6845\n",
    "│       │   │   │   ├── 6d6845.json\n",
    "│       │   │   │   ├── 7a2d67\n",
    "│       │   │   │   ├── 7a2d67.json\n",
    "│       │   │   │   ├── ed0dd9\n",
    "│       │   │   │   └── ed0dd9.json\n",
    "│       │   │   ├── gen1\n",
    "│       │   │   ├── ...\n",
    "│       │   │   ├── gen8\n",
    "│       │   │   ├── ...\n",
    "│       │   │   ├── generation_0\n",
    "│       │   │   │   ├── Some.java\n",
    "│       │   │   │   ├── ...\n",
    "│       │   │   │   ├── Other.java\n",
    "│       │   │   │   └── Different.java\n",
    "│       │   │   └── initialGen\n",
    "│       │   │       └── 3bf9ce\n",
    "│       │   └── results.txt\n",
    "│       ├── seed-5142\n",
    "│           └── results.txt\n",
    "│       ...\n",
    "├── evaluation.ipynb\n",
    "└── requirements.txt\n",
    "```"
   ]
  },
  {
   "cell_type": "markdown",
   "source": [
    "## Data Loading\n",
    "\n",
    "Most of this is done in the nearby extract script, but we also extract some highlevel variables."
   ],
   "metadata": {
    "collapsed": false,
    "pycharm": {
     "name": "#%% md\n"
    }
   }
  },
  {
   "cell_type": "code",
   "execution_count": null,
   "outputs": [],
   "source": [
    "import pandas as pd\n",
    "import seaborn as sbn\n",
    "import matplotlib.pyplot as plt\n",
    "import extract\n",
    "\n",
    "# Important: Specify Directory without / at the end!\n",
    "directory:str = \"./data\"\n",
    "# Whether only the most important plots will be made\n",
    "verbose:bool = False"
   ],
   "metadata": {
    "collapsed": false,
    "pycharm": {
     "name": "#%%\n"
    }
   }
  },
  {
   "cell_type": "code",
   "execution_count": null,
   "outputs": [],
   "source": [
    "%%time\n",
    "df = extract.make_df(directory)"
   ],
   "metadata": {
    "collapsed": false,
    "pycharm": {
     "name": "#%%\n"
    }
   }
  },
  {
   "cell_type": "code",
   "execution_count": null,
   "outputs": [],
   "source": [
    "all_metrics = [\"F1\",\"MRR\",\"EDITDIST\",\"PMRR\",\"REC\",\"PREC\"]\n",
    "all_transformers = extract.get_known_transformers()\n",
    "all_experiments = set(df[\"experiment\"])\n",
    "all_seeds = set(df[\"seed\"])"
   ],
   "metadata": {
    "collapsed": false,
    "pycharm": {
     "name": "#%%"
    }
   }
  },
  {
   "cell_type": "code",
   "execution_count": null,
   "outputs": [],
   "source": [
    "df.head(5)"
   ],
   "metadata": {
    "collapsed": false,
    "pycharm": {
     "name": "#%%\n"
    }
   }
  },
  {
   "cell_type": "code",
   "execution_count": null,
   "outputs": [],
   "source": [
    "df[\"algorithm\"] = df.algorithm.astype(\"category\")\n",
    "#df[\"algorithm\"]\n",
    "df.dtypes\n",
    "\n"
   ],
   "metadata": {
    "collapsed": false,
    "pycharm": {
     "name": "#%%\n"
    }
   }
  },
  {
   "cell_type": "markdown",
   "source": [
    "## Per Experiment Plots"
   ],
   "metadata": {
    "collapsed": false,
    "pycharm": {
     "name": "#%% md\n"
    }
   }
  },
  {
   "cell_type": "code",
   "execution_count": null,
   "outputs": [],
   "source": [
    "#grouped_df = df.groupby([\"experiment\",\"generation\",\"seed\"]).mean().reset_index()\n",
    "#grouped_df.head(5)"
   ],
   "metadata": {
    "collapsed": false,
    "pycharm": {
     "name": "#%%\n"
    }
   }
  },
  {
   "cell_type": "code",
   "execution_count": null,
   "outputs": [],
   "source": [
    "grouped_by_generation = df.groupby([\"experiment\",\"generation\"]).mean().reset_index()\n",
    "#Note: The grouping removes all fields that are not used for grouping or can be meaned,\n",
    "#so we have to re-add algorithm\n",
    "grouped_by_generation[\"algorithm\"]=grouped_by_generation.experiment.apply(lambda x: \"random\" if \"random\" in x else \"genetic\")\n",
    "grouped_by_generation.head(5)"
   ],
   "metadata": {
    "collapsed": false,
    "pycharm": {
     "name": "#%%\n"
    }
   }
  },
  {
   "cell_type": "code",
   "execution_count": null,
   "outputs": [],
   "source": [
    "sbn.relplot(data=grouped_by_generation,x=\"generation\",y=\"F1\",hue=\"algorithm\",facet_kws=dict(legend_out=False))\n",
    "plt.ylim([0.35,0.55])\n",
    "plt.title(\"General Experiment Output for F1\")\n",
    "plt.savefig(\"figures/general-generations-f1\")\n",
    "plt.show()"
   ],
   "metadata": {
    "collapsed": false,
    "pycharm": {
     "name": "#%%\n"
    }
   }
  },
  {
   "cell_type": "code",
   "execution_count": null,
   "outputs": [],
   "source": [
    "ax = sbn.relplot(data=grouped_by_generation,x=\"generation\",y=\"MRR\",hue=\"algorithm\",\n",
    "    facet_kws=dict(legend_out=False))\n",
    "plt.ylim([0.2,0.8])\n",
    "plt.title(\"General Experiment Output for MRR\")\n",
    "plt.savefig(\"figures/general-generations-mrr\")\n",
    "plt.show()"
   ],
   "metadata": {
    "collapsed": false,
    "pycharm": {
     "name": "#%%\n"
    }
   }
  },
  {
   "cell_type": "code",
   "execution_count": null,
   "outputs": [],
   "source": [
    "grouped_by_transformation =  df.groupby([\"experiment\",\"TRANSFORMATIONS\"]).mean().reset_index()\n",
    "#Note: The grouping removes all fields that are not used for grouping or can be meaned,\n",
    "#so we have to re-add algorithm\n",
    "grouped_by_transformation[\"algorithm\"]=grouped_by_transformation.experiment.apply(lambda x: \"random\" if \"random\" in x else \"genetic\")\n",
    "grouped_by_transformation.head(5)"
   ],
   "metadata": {
    "collapsed": false,
    "pycharm": {
     "name": "#%%\n"
    }
   }
  },
  {
   "cell_type": "code",
   "execution_count": null,
   "outputs": [],
   "source": [
    "ax = sbn.relplot(data=grouped_by_transformation,x=\"TRANSFORMATIONS\",y=\"F1\",hue=\"algorithm\",\n",
    "    facet_kws=dict(legend_out=False))\n",
    "plt.ylim([0.2,0.8])\n",
    "plt.title(\"General Experiment Output for F1\")\n",
    "plt.savefig(\"figures/general-transformations-f1\")\n",
    "plt.show()"
   ],
   "metadata": {
    "collapsed": false,
    "pycharm": {
     "name": "#%%\n"
    }
   }
  },
  {
   "cell_type": "code",
   "execution_count": null,
   "outputs": [],
   "source": [
    "ax = sbn.relplot(data=grouped_by_transformation,x=\"TRANSFORMATIONS\",y=\"MRR\",hue=\"algorithm\",\n",
    "    facet_kws=dict(legend_out=False))\n",
    "plt.ylim([0.2,0.8])\n",
    "plt.title(\"General Experiment Output for MRR\")\n",
    "plt.savefig(\"figures/general-transformations-mrr\")\n",
    "plt.show()\n"
   ],
   "metadata": {
    "collapsed": false,
    "pycharm": {
     "name": "#%%\n"
    }
   }
  },
  {
   "cell_type": "code",
   "execution_count": null,
   "outputs": [],
   "source": [
    "if verbose:\n",
    "    for exp in all_experiments:\n",
    "        ax = sbn.relplot(data=grouped_by_generation[grouped_by_generation[\"experiment\"]==exp],x=\"generation\",y=\"F1\",kind=\"line\")\n",
    "        plt.title(f\"F1 Score for {exp}\")\n",
    "        plt.xlabel(\"Generation\")\n",
    "        plt.ylabel(\"F1\")\n",
    "        plt.ylim([0,1])\n",
    "        plt.show()\n",
    "\n",
    "    for exp in all_experiments:\n",
    "        sbn.relplot(data=grouped_by_generation[grouped_by_generation[\"experiment\"]==exp],x=\"generation\",y=\"MRR\",kind=\"line\")\n",
    "        plt.title(f\"MRR Score for {exp}\")\n",
    "        plt.xlabel(\"Generation\")\n",
    "        plt.ylabel(\"MRR\")\n",
    "        plt.ylim([0,1])\n",
    "        plt.show()"
   ],
   "metadata": {
    "collapsed": false,
    "pycharm": {
     "name": "#%%\n"
    }
   }
  },
  {
   "cell_type": "code",
   "execution_count": null,
   "outputs": [],
   "source": [
    "# Combi-Plots\n",
    "\n",
    "combinations = [\"F1-min\",\"MRR-min\",\"random-F1-min\",\"random-MRR-min\"]\n",
    "mask = grouped_by_generation[\"experiment\"].isin(combinations)\n",
    "filtered_df = grouped_by_generation[mask]\n",
    "filtered_df[\"experiment\"]=filtered_df.experiment.astype(str)\n",
    "\n",
    "\n",
    "sbn.relplot(data=filtered_df,x=\"generation\",y=\"MRR\",hue=\"experiment\",kind=\"line\",facet_kws=dict(legend_out=False))\n",
    "plt.ylim([0.3,0.7])\n",
    "plt.xlabel(\"Generation\")\n",
    "plt.ylabel(\"MRR\")\n",
    "plt.title(\"Minimizing MRR Score\")\n",
    "plt.savefig(\"figures/minimizing-mrr\")\n",
    "plt.show()\n",
    "\n",
    "\n",
    "sbn.relplot(data=filtered_df,x=\"generation\",y=\"F1\",hue=\"experiment\",kind=\"line\",facet_kws=dict(legend_out=False))\n",
    "plt.ylim([0.4,0.7])\n",
    "plt.xlabel(\"Generation\")\n",
    "plt.ylabel(\"F1\")\n",
    "plt.title(\"Minimizing F1 Score\")\n",
    "plt.savefig(\"figures/minimizing-f1\")\n",
    "plt.show()\n",
    "\n",
    "del mask,filtered_df,combinations"
   ],
   "metadata": {
    "collapsed": false,
    "pycharm": {
     "name": "#%%\n"
    }
   }
  },
  {
   "cell_type": "code",
   "execution_count": null,
   "outputs": [],
   "source": [
    "# Combi-Plots\n",
    "\n",
    "combinations = [\"F1-max\",\"MRR-max\",\"random-F1-max\",\"random-MRR-max\"]\n",
    "mask = grouped_by_generation[\"experiment\"].isin(combinations)\n",
    "filtered_df = grouped_by_generation[mask]\n",
    "filtered_df[\"experiment\"]=filtered_df.experiment.astype(str)\n",
    "\n",
    "\n",
    "plt.figure(figsize=(1,1))\n",
    "sbn.relplot(data=filtered_df,x=\"generation\",y=\"MRR\",hue=\"experiment\",kind=\"line\",facet_kws=dict(legend_out=False))\n",
    "plt.ylim([0.4,0.7])\n",
    "plt.xlabel(\"Generation\")\n",
    "plt.title(\"Maximizing MRR Score\")\n",
    "plt.ylabel(\"MRR\")\n",
    "plt.savefig(\"figures/maximizing-mrr\")\n",
    "plt.show()\n",
    "\n",
    "\n",
    "sbn.relplot(data=filtered_df,x=\"generation\",y=\"F1\",hue=\"experiment\",kind=\"line\",facet_kws=dict(legend_out=False))\n",
    "plt.ylim([0.4,0.7])\n",
    "plt.xlabel(\"Generation\")\n",
    "plt.ylabel(\"F1\")\n",
    "plt.title(\"Maximizing F1 Score\")\n",
    "plt.savefig(\"figures/maximizing-f1\")\n",
    "plt.show()\n",
    "\n",
    "del mask,filtered_df,combinations"
   ],
   "metadata": {
    "collapsed": false,
    "pycharm": {
     "name": "#%%\n"
    }
   }
  },
  {
   "cell_type": "markdown",
   "source": [
    "### Pareto Tradeoffs"
   ],
   "metadata": {
    "collapsed": false,
    "pycharm": {
     "name": "#%% md\n"
    }
   }
  },
  {
   "cell_type": "code",
   "execution_count": null,
   "outputs": [],
   "source": [
    "combinations = [\"pareto-F1-trans-min\",\"pareto-MRR-trans-min\",\"random-pareto-F1-trans-min\",\"random-pareto-MRR-trans-min\"]\n",
    "mask = grouped_by_generation[\"experiment\"].isin(combinations)\n",
    "filtered_df = grouped_by_generation[mask]\n",
    "filtered_df[\"experiment\"]=filtered_df.experiment.astype(str)\n",
    "\n",
    "sbn.relplot(data=filtered_df,x=\"generation\",y=\"MRR\",hue=\"experiment\",kind=\"line\",facet_kws=dict(legend_out=False))\n",
    "plt.ylim([0.4,0.8])\n",
    "plt.xlabel(\"Generation\")\n",
    "plt.ylabel(\"MRR\")\n",
    "plt.title(\"Pareto-Minimizing MRR Score\")\n",
    "plt.savefig(\"figures/pareto-minimizing-mrr\")\n",
    "plt.show()\n",
    "\n",
    "sbn.relplot(data=filtered_df,x=\"TRANSFORMATIONS\",y=\"MRR\",hue=\"experiment\",kind=\"line\",facet_kws=dict(legend_out=False))\n",
    "plt.ylim([0.4,0.8])\n",
    "plt.xlabel(\"Transformations\")\n",
    "plt.ylabel(\"MRR\")\n",
    "plt.title(\"Pareto Minimizing MRR Score\")\n",
    "plt.savefig(\"figures/pareto-minimizing-mrr-2\")\n",
    "plt.show()\n",
    "\n",
    "del mask,filtered_df,combinations\n"
   ],
   "metadata": {
    "collapsed": false,
    "pycharm": {
     "name": "#%%\n"
    }
   }
  },
  {
   "cell_type": "code",
   "execution_count": null,
   "outputs": [],
   "source": [
    "combinations = [\"pareto-F1-trans-min\",\"pareto-MRR-trans-min\",\"random-pareto-F1-trans-min\",\"random-pareto-MRR-trans-min\"]\n",
    "mask = grouped_by_generation[\"experiment\"].isin(combinations)\n",
    "filtered_df = grouped_by_generation[mask]\n",
    "filtered_df[\"experiment\"]=filtered_df.experiment.astype(str)\n",
    "\n",
    "sbn.relplot(data=filtered_df,x=\"generation\",y=\"F1\",hue=\"experiment\",kind=\"line\",facet_kws=dict(legend_out=False))\n",
    "plt.ylim([0.35,0.7])\n",
    "plt.xlabel(\"Generation\")\n",
    "plt.ylabel(\"F1\")\n",
    "plt.title(\"Pareto Minimizing F1 Score\")\n",
    "plt.savefig(\"figures/pareto-minimizing-f1\")\n",
    "plt.show()\n",
    "\n",
    "\n",
    "sbn.relplot(data=filtered_df,x=\"TRANSFORMATIONS\",y=\"F1\",style=\"algorithm\",hue=\"experiment\",kind=\"line\",facet_kws=dict(legend_out=False))\n",
    "plt.ylim([0.35,0.7])\n",
    "plt.xlabel(\"transformers\")\n",
    "plt.ylabel(\"F1\")\n",
    "plt.title(\"Pareto Minimizing F1 Score\")\n",
    "plt.savefig(\"figures/pareto-minimizing-f1-2\")\n",
    "plt.show()\n",
    "\n",
    "del mask,filtered_df,combinations\n"
   ],
   "metadata": {
    "collapsed": false,
    "pycharm": {
     "name": "#%%\n"
    }
   }
  },
  {
   "cell_type": "code",
   "execution_count": null,
   "outputs": [],
   "source": [
    "sbn.scatterplot(data=df,x=\"generation\",y=\"TRANSFORMATIONS\",hue=\"algorithm\")\n",
    "plt.title(\"Distribution Generations vs. Transformations\")"
   ],
   "metadata": {
    "collapsed": false,
    "pycharm": {
     "name": "#%%\n"
    }
   }
  },
  {
   "cell_type": "code",
   "execution_count": null,
   "outputs": [],
   "source": [
    "sub_df = df[[\"experiment\",\"TRANSFORMATIONS\"]+all_transformers]\n",
    "agg_transformations = sub_df.groupby([\"experiment\",\"TRANSFORMATIONS\"]).sum().reset_index()"
   ],
   "metadata": {
    "collapsed": false,
    "pycharm": {
     "name": "#%%\n"
    }
   }
  },
  {
   "cell_type": "code",
   "execution_count": null,
   "outputs": [],
   "source": [
    "for exp in all_experiments:\n",
    "    sbn.barplot(data=agg_transformations[agg_transformations[\"experiment\"]==exp])\n",
    "    plt.legend()\n",
    "    plt.ylabel(\"Count\")\n",
    "    plt.title(f\"Transformation Distribution for {exp}\")\n",
    "    plt.show()"
   ],
   "metadata": {
    "collapsed": false,
    "pycharm": {
     "name": "#%%\n"
    }
   }
  }
 ],
 "metadata": {
  "kernelspec": {
   "display_name": "Python 3",
   "language": "python",
   "name": "python3"
  },
  "language_info": {
   "codemirror_mode": {
    "name": "ipython",
    "version": 2
   },
   "file_extension": ".py",
   "mimetype": "text/x-python",
   "name": "python",
   "nbconvert_exporter": "python",
   "pygments_lexer": "ipython2",
   "version": "2.7.6"
  }
 },
 "nbformat": 4,
 "nbformat_minor": 0
}