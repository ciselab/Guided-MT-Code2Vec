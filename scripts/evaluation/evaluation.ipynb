{
 "cells": [
  {
   "cell_type": "markdown",
   "metadata": {
    "collapsed": true
   },
   "source": [
    "# Guided-MT Code2Vec Evaluation\n",
    "\n",
    "This Notebook runs over the experiment-outputs, extracts data and makes plots.\n",
    "\n",
    "Expected Layout:\n",
    "\n",
    "```\n",
    ".\n",
    "├── README.md\n",
    "├── data\n",
    "│   └── random-MRR-max\n",
    "│       ├── seed-2880\n",
    "│       │   ├── data\n",
    "│       │   │   ├── gen0\n",
    "│       │   │   │   ├── 3b2459\n",
    "│       │   │   │   ├── 3b2459.json\n",
    "│       │   │   │   ├── 447e22\n",
    "│       │   │   │   ├── 447e22.json\n",
    "│       │   │   │   ├── 4495c7\n",
    "│       │   │   │   ├── 4495c7.json\n",
    "│       │   │   │   ├── 52667b\n",
    "│       │   │   │   ├── 52667b.json\n",
    "│       │   │   │   ├── 6855ba\n",
    "│       │   │   │   ├── 6855ba.json\n",
    "│       │   │   │   ├── 68ec75\n",
    "│       │   │   │   ├── 68ec75.json\n",
    "│       │   │   │   ├── 6cc14d\n",
    "│       │   │   │   ├── 6cc14d.json\n",
    "│       │   │   │   ├── 6d6845\n",
    "│       │   │   │   ├── 6d6845.json\n",
    "│       │   │   │   ├── 7a2d67\n",
    "│       │   │   │   ├── 7a2d67.json\n",
    "│       │   │   │   ├── ed0dd9\n",
    "│       │   │   │   └── ed0dd9.json\n",
    "│       │   │   ├── gen1\n",
    "│       │   │   ├── ...\n",
    "│       │   │   ├── gen8\n",
    "│       │   │   ├── ...\n",
    "│       │   │   ├── generation_0\n",
    "│       │   │   │   ├── Some.java\n",
    "│       │   │   │   ├── ...\n",
    "│       │   │   │   ├── Other.java\n",
    "│       │   │   │   └── Different.java\n",
    "│       │   │   └── initialGen\n",
    "│       │   │       └── 3bf9ce\n",
    "│       │   └── results.txt\n",
    "│       ├── seed-5142\n",
    "│           └── results.txt\n",
    "│       ...\n",
    "├── evaluation.ipynb\n",
    "└── requirements.txt\n",
    "```"
   ]
  },
  {
   "cell_type": "markdown",
   "source": [],
   "metadata": {
    "collapsed": false
   }
  },
  {
   "cell_type": "markdown",
   "source": [
    "## Data Loading\n",
    "\n",
    "Most of this is done in the nearby extract script, but we also extract some highlevel variables."
   ],
   "metadata": {
    "collapsed": false
   }
  },
  {
   "cell_type": "code",
   "execution_count": null,
   "outputs": [],
   "source": [
    "import pandas as pd\n",
    "import seaborn as sbn\n",
    "import numpy as np\n",
    "import matplotlib.pyplot as plt\n",
    "from scipy import interpolate\n",
    "\n",
    "import extract\n",
    "\n",
    "\n",
    "# Important: Specify Directory without / at the end!\n",
    "directory:str = \"./data\""
   ],
   "metadata": {
    "collapsed": false
   }
  },
  {
   "cell_type": "code",
   "execution_count": null,
   "outputs": [],
   "source": [
    "%%time\n",
    "df = extract.make_df(directory)\n",
    "\n",
    "# Correct Naming Mistakes:\n",
    "def flip_min_and_max(to_flip: str) -> str:\n",
    "    mapping = {\n",
    "        \"F1-min\": \"F1-max\", \"F1-max\": \"F1-min\", \"random-F1-min\": \"random-F1-max\",\"random-F1-max\": \"random-F1-min\",\n",
    "        \"MRR-min\": \"MRR-max\",\"MRR-max\":\"MRR-min\", \"random-MRR-min\": \"random-MRR-max\", \"random-MRR-max\": \"random-MRR-min\"}\n",
    "    # Paretos are not done, as they were not useful for RQs at the point of writing.\n",
    "    return mapping.get(to_flip,to_flip)\n",
    "\n",
    "df[\"experiment\"] = df[\"experiment\"].apply(flip_min_and_max)\n",
    "\n",
    "# Remove Pareto Experiments, they are a bit wacky\n",
    "# ~ is the \"invert\" operator and changes true to false and false to true for series\n",
    "df = df[~df['experiment'].str.contains(\"pareto\")]\n",
    "# Reduce categories to only existing ones - no \"ghost categories\" after removing paretos\n",
    "df['experiment'] = df['experiment'].astype(str)\n",
    "df['experiment'] = df['experiment'].astype(\"category\")"
   ],
   "metadata": {
    "collapsed": false
   }
  },
  {
   "cell_type": "code",
   "execution_count": null,
   "outputs": [],
   "source": [
    "all_metrics = [\"F1\",\"MRR\",\"EDITDIST\",\"PMRR\",\"REC\",\"PREC\"]\n",
    "all_transformers = extract.get_known_transformers()\n",
    "all_experiments = set(df[\"experiment\"])\n",
    "all_seeds = set(df[\"seed\"])"
   ],
   "metadata": {
    "collapsed": false,
    "pycharm": {
     "name": "#%%"
    }
   }
  },
  {
   "cell_type": "code",
   "execution_count": null,
   "outputs": [],
   "source": [
    "df.to_csv(\"./results.csv\")\n",
    "df.head(5)"
   ],
   "metadata": {
    "collapsed": false
   }
  },
  {
   "cell_type": "code",
   "execution_count": null,
   "outputs": [],
   "source": [
    "#TODO: There are random exps in gen 10 that have 1 transformer?"
   ],
   "metadata": {
    "collapsed": false
   }
  },
  {
   "cell_type": "code",
   "execution_count": null,
   "outputs": [],
   "source": [
    "broader_grouped_df = df.groupby([\"experiment\",\"generation\"]).mean().reset_index()\n",
    "broader_grouped_df[\"algorithm\"] = broader_grouped_df[\"experiment\"].apply(lambda x: \"random\" if \"random\" in x else \"genetic\")\n",
    "# Remove Pareto Experiments, they are a bit wacky\n",
    "# ~ is the \"invert\" operator and changes true to false and false to true for series\n",
    "broader_grouped_df[~broader_grouped_df['experiment'].str.contains(\"pareto\")]\n",
    "\n",
    "broader_grouped_df.head(5)"
   ],
   "metadata": {
    "collapsed": false
   }
  },
  {
   "cell_type": "markdown",
   "source": [
    "## Per Experiment Plots"
   ],
   "metadata": {
    "collapsed": false
   }
  },
  {
   "cell_type": "code",
   "execution_count": null,
   "outputs": [],
   "source": [
    "fig, (ax1,ax2) = plt.subplots(nrows=2,sharex=True)\n",
    "\n",
    "sbn.lineplot(data=broader_grouped_df,x=\"generation\",y=\"F1\", style=\"algorithm\",hue=\"experiment\",ax=ax1,legend=None,markers=\"o\")\n",
    "ax1.set_title(\"MRR and F1 over experiments\")\n",
    "ax1.set_ylim([0.35,0.7])\n",
    "ax1.set_xlim([0,26])\n",
    "\n",
    "sbn.lineplot(data=broader_grouped_df,x=\"generation\",y=\"MRR\",style=\"algorithm\", hue=\"experiment\",ax=ax2,markers=\"o\")\n",
    "ax2.set_ylim([0.35,0.7])\n",
    "ax2.set_xlim([0,26])\n",
    "\n",
    "ax2.legend(bbox_to_anchor=(1.05, 2))\n",
    "\n",
    "fig.subplots_adjust(right=1.2) # <-- Secret Number measured for this plot to work for the export\n",
    "\n",
    "plt.savefig(\"./figures/development-f1-mrr-all-experiments.png\",bbox_inches=\"tight\")\n",
    "plt.show()"
   ],
   "metadata": {
    "collapsed": false
   }
  },
  {
   "cell_type": "code",
   "execution_count": null,
   "outputs": [],
   "source": [
    "helper_df = broader_grouped_df[broader_grouped_df[\"algorithm\"]==\"genetic\"]\n",
    "used_experiments = helper_df[\"experiment\"].unique().to_list()\n",
    "fig, axs = plt.subplots(nrows=2,sharex=True)\n",
    "\n",
    "sbn.lineplot(data=helper_df,x=\"generation\",y=\"F1\",hue=\"experiment\",ax=axs[0],legend=None,marker='o',hue_order=used_experiments)\n",
    "axs[0].set_title(\"MRR and F1 over genetic experiments\")\n",
    "axs[0].set_ylim([0.35,0.7])\n",
    "\n",
    "sbn.lineplot(data=helper_df,x=\"generation\",y=\"MRR\", hue=\"experiment\",ax=axs[1],marker='o',hue_order=used_experiments)\n",
    "axs[1].set_ylim([0.35,0.7])\n",
    "\n",
    "plt.legend(title=\"Experiment\",bbox_to_anchor=(1.45,1.45))\n",
    "#plt.legend(bbox_to_anchor=(1.45, 1.45))\n",
    "\n",
    "plt.savefig(\"./figures/development-f1-mrr-all-genetic-experiments.png\")\n",
    "plt.show()\n",
    "del helper_df, used_experiments"
   ],
   "metadata": {
    "collapsed": false
   }
  },
  {
   "cell_type": "code",
   "execution_count": null,
   "outputs": [],
   "source": [
    "helper_df = df[~df[\"experiment\"].str.contains(\"random\")]\n",
    "used_experiments = helper_df[\"experiment\"].unique().to_list()\n",
    "\n",
    "sbn.lineplot(helper_df,y=\"F1\",x=\"generation\",estimator=np.median,hue=\"experiment\",hue_order=used_experiments)\n",
    "\n",
    "plt.legend(loc=\"lower left\")\n",
    "\n",
    "plt.title(\"Development of F1-Score (Median)\")\n",
    "plt.xlim(0,16)\n",
    "\n",
    "plt.savefig(\"./figures/development-f1-all-genetic.png\")\n",
    "plt.show()\n",
    "\n",
    "del helper_df,used_experiments"
   ],
   "metadata": {
    "collapsed": false
   }
  },
  {
   "cell_type": "code",
   "execution_count": null,
   "outputs": [],
   "source": [
    "helper_df = df[(df[\"experiment\"] == \"F1-min\") | (df[\"experiment\"] == \"random-F1-min\") ]\n",
    "used_experiments = helper_df[\"experiment\"].unique().to_list()\n",
    "\n",
    "sbn.lineplot(helper_df,y=\"F1\",x=\"generation\",estimator=np.median,hue=\"experiment\",hue_order=used_experiments)\n",
    "\n",
    "plt.legend(loc=\"lower left\")\n",
    "\n",
    "plt.title(\"Development of F1-Score (Median)\")\n",
    "plt.xlim(0,16)\n",
    "\n",
    "plt.savefig(\"./figures/development-f1-min-median-random-and-genetic.png\")\n",
    "plt.show()\n",
    "del helper_df,used_experiments"
   ],
   "metadata": {
    "collapsed": false
   }
  },
  {
   "cell_type": "code",
   "execution_count": null,
   "outputs": [],
   "source": [
    "helper_df = broader_grouped_df[broader_grouped_df[\"algorithm\"]==\"genetic\"]\n",
    "used_experiments = helper_df[\"experiment\"].unique().to_list()\n",
    "sbn.lineplot(data=helper_df,x=\"generation\",y=\"F1\",hue=\"experiment\",markers=True, hue_order=used_experiments)\n",
    "plt.title(\"F1 over genetic experiments\")\n",
    "plt.ylim([0.35,0.55])\n",
    "plt.xlim([0,20])\n",
    "\n",
    "plt.savefig(\"./figures/development-f1-all-genetic-experiments.png\")\n",
    "plt.show()\n",
    "del helper_df,used_experiments"
   ],
   "metadata": {
    "collapsed": false
   }
  },
  {
   "cell_type": "code",
   "execution_count": null,
   "outputs": [],
   "source": [
    "helper_df = broader_grouped_df[broader_grouped_df[\"algorithm\"]==\"genetic\"]\n",
    "used_experiments = helper_df[\"experiment\"].unique().to_list()\n",
    "sbn.lineplot(data=helper_df,x=\"generation\",y=\"MRR\",hue=\"experiment\",markers=True, hue_order=used_experiments)\n",
    "plt.title(\"MRR over genetic experiments\")\n",
    "plt.ylim([0.3,0.7])\n",
    "\n",
    "plt.savefig(\"./figures/development-mrr-all-genetic-experiments.png\")\n",
    "plt.show()\n",
    "del helper_df,used_experiments"
   ],
   "metadata": {
    "collapsed": false
   }
  },
  {
   "cell_type": "code",
   "execution_count": null,
   "outputs": [],
   "source": [
    "#labels = all_transformers\n",
    "labels = range(0,26)\n",
    "target_exp = \"F1-min\"\n",
    "width = 0.5\n",
    "ts = []\n",
    "\n",
    "helper_df= broader_grouped_df[broader_grouped_df[\"experiment\"]==target_exp]\n",
    "helper_df = helper_df.sort_values(\"generation\")\n",
    "\n",
    "fig, ax = plt.subplots()\n",
    "\n",
    "counter = 0\n",
    "for transformer_name in all_transformers:\n",
    "    ts.append(list(helper_df[transformer_name].fillna(0)))\n",
    "\n",
    "    array_size = len(ts[0])\n",
    "    current_bottom = [0] * array_size\n",
    "    for x in range(0,array_size):\n",
    "        current_bottom[x] = sum([ts[i][x] for i in range(0,counter)])\n",
    "\n",
    "    if counter == 0:\n",
    "        ax.bar(labels, ts[counter], width, label=transformer_name)\n",
    "    else:\n",
    "        ax.bar(labels, ts[counter], width, label=transformer_name, bottom=current_bottom)\n",
    "    counter = counter + 1\n",
    "\n",
    "ax.set_xlim([0,15])\n",
    "ax.set_ylabel('Transformers')\n",
    "ax.set_xlabel('Generation')\n",
    "ax.set_title('Transformers by Type and Generation for F1-max')\n",
    "ax.legend()\n",
    "\n",
    "plt.savefig(\"./figures/f1-min-transformer-mix.png\")\n",
    "plt.show()\n",
    "\n",
    "del helper_df,labels,target_exp,fig,ax,width,array_size,ts"
   ],
   "metadata": {
    "collapsed": false
   }
  },
  {
   "cell_type": "code",
   "execution_count": null,
   "outputs": [],
   "source": [
    "#labels = all_transformers\n",
    "labels = range(0,26)\n",
    "target_exp = \"random-F1-max\"\n",
    "width = 0.5\n",
    "ts = []\n",
    "\n",
    "helper_df= broader_grouped_df[broader_grouped_df[\"experiment\"]==target_exp]\n",
    "helper_df = helper_df.sort_values(\"generation\")\n",
    "\n",
    "fig, ax = plt.subplots()\n",
    "\n",
    "counter = 0\n",
    "for transformer_name in all_transformers:\n",
    "    ts.append(list(helper_df[transformer_name].fillna(0)))\n",
    "\n",
    "    array_size = len(ts[0])\n",
    "    current_bottom = [0] * array_size\n",
    "    for x in range(0,array_size):\n",
    "        current_bottom[x] = sum([ts[i][x] for i in range(0,counter)])\n",
    "\n",
    "    if counter == 0:\n",
    "        ax.bar(labels, ts[counter], width, label=transformer_name)\n",
    "    else:\n",
    "        ax.bar(labels, ts[counter], width, label=transformer_name, bottom=current_bottom)\n",
    "    counter = counter + 1\n",
    "\n",
    "ax.set_xlim([0,17])\n",
    "ax.set_ylabel('Transformers')\n",
    "ax.set_xlabel('Generation')\n",
    "ax.set_title('Transformers by Type and Generation for random-F1-min')\n",
    "ax.legend()\n",
    "\n",
    "plt.savefig(\"./figures/random-f1-min-transformer-mix.png\")\n",
    "plt.show()\n",
    "\n",
    "del helper_df,labels,target_exp,fig,ax,width,array_size,ts"
   ],
   "metadata": {
    "collapsed": false
   }
  },
  {
   "cell_type": "code",
   "execution_count": null,
   "outputs": [],
   "source": [
    "sbn.lineplot(df,y=\"F1\",x=\"generation\",estimator=np.median,hue=\"experiment\")\n",
    "\n",
    "plt.legend(loc=\"lower right\")\n",
    "\n",
    "plt.title(\"Development of F1-Score\")"
   ],
   "metadata": {
    "collapsed": false
   }
  },
  {
   "cell_type": "code",
   "execution_count": null,
   "outputs": [],
   "source": [
    "helper_df = df[~df[\"experiment\"].str.contains(\"random\")]\n",
    "used_experiments = helper_df[\"experiment\"].unique().to_list()\n",
    "\n",
    "sbn.lineplot(helper_df,y=\"F1\",x=\"generation\",estimator=np.average,hue=\"experiment\",hue_order=used_experiments)\n",
    "\n",
    "plt.legend(loc=\"lower left\")\n",
    "\n",
    "plt.title(\"Development of F1-Score (Average)\")\n",
    "plt.xlim(0,16)\n",
    "\n",
    "del helper_df,used_experiments"
   ],
   "metadata": {
    "collapsed": false
   }
  },
  {
   "cell_type": "code",
   "execution_count": null,
   "outputs": [],
   "source": [
    "helper_df = df[~df[\"experiment\"].str.contains(\"random\")]\n",
    "used_experiments = helper_df[\"experiment\"].unique().to_list()\n",
    "\n",
    "sbn.lineplot(helper_df,y=\"MRR\",x=\"generation\",estimator=np.median,hue=\"experiment\",hue_order=used_experiments)\n",
    "\n",
    "plt.legend(loc=\"lower left\")\n",
    "\n",
    "plt.title(\"Development of MRR-Score (Median)\")\n",
    "plt.xlim(0,16)\n",
    "\n",
    "del helper_df,used_experiments"
   ],
   "metadata": {
    "collapsed": false
   }
  },
  {
   "cell_type": "code",
   "execution_count": null,
   "outputs": [],
   "source": [
    "helper_df = df[~df[\"experiment\"].str.contains(\"random\")]\n",
    "used_experiments = helper_df[\"experiment\"].unique().to_list()\n",
    "\n",
    "sbn.lineplot(helper_df,y=\"MRR\",x=\"generation\",estimator=np.mean,hue=\"experiment\",hue_order=used_experiments)\n",
    "\n",
    "plt.legend(loc=\"lower left\")\n",
    "\n",
    "plt.title(\"Development of MRR-Score (Mean)\")\n",
    "plt.xlim(0,16)\n",
    "\n",
    "del helper_df,used_experiments"
   ],
   "metadata": {
    "collapsed": false
   }
  },
  {
   "cell_type": "code",
   "execution_count": null,
   "outputs": [],
   "source": [
    "fig,ax = plt.subplots()\n",
    "ax.grid(False)\n",
    "ax.set_xlim(0,15)\n",
    "\n",
    "sbn.lineplot(df[df[\"experiment\"]==\"F1-min\"],x=\"generation\",y=\"TRANSFORMATIONS\", estimator=np.mean,\n",
    "             label=\"Transformations\",ax=ax,legend=True,color=\"olive\")\n",
    "plt.legend(loc=\"upper right\")\n",
    "plt.xlabel(\"Generations\")\n",
    "ax2=ax.twinx()\n",
    "ax2.grid(False)\n",
    "ax.set_ylabel(\"F1-Score\")\n",
    "sbn.lineplot(df[df[\"experiment\"]==\"F1-min\"],x=\"generation\",y=\"F1\", estimator=np.median,\n",
    "             label=\"F1-Score\",ax=ax2,legend=True,color=\"lightseagreen\")\n",
    "\n",
    "plt.legend(loc=\"upper left\")\n",
    "plt.xlabel(\"Generations\")\n",
    "plt.title(\"Comparison of growing Transformations and falling F1-Score\")\n",
    "\n",
    "plt.savefig(\"./figures/comparison-f1-ts-f1-min.png\")\n",
    "\n",
    "plt.show()"
   ],
   "metadata": {
    "collapsed": false
   }
  },
  {
   "cell_type": "code",
   "execution_count": null,
   "outputs": [],
   "source": [
    "fig,ax = plt.subplots()\n",
    "ax.grid(False)\n",
    "ax.set_xlim(0,15)\n",
    "ax.set_ylabel(\"Transformations\")\n",
    "\n",
    "sbn.lineplot(df[df[\"experiment\"]==\"F1-min\"],x=\"generation\",y=\"TRANSFORMATIONS\", estimator=np.mean,\n",
    "             label=\"Transformations\",ax=ax,legend=True,color=\"olive\")\n",
    "plt.legend(loc=\"upper right\")\n",
    "plt.xlabel(\"Generations\")\n",
    "\n",
    "ax2=ax.twinx()\n",
    "ax2.grid(False)\n",
    "\n",
    "ax2.set_ylabel(\"Score\")\n",
    "sbn.lineplot(df[df[\"experiment\"]==\"F1-min\"],x=\"generation\",y=\"MRR\", estimator=np.median,\n",
    "             label=\"MRR-Score\",ax=ax2,legend=True,color=\"goldenrod\")\n",
    "plt.legend(loc=\"upper left\")\n",
    "plt.title(\"Comparison of growing Transformations and rising MRR-Score\")\n",
    "\n",
    "plt.savefig(\"./figures/comparison-MRR-ts-f1-min.png\")\n",
    "\n",
    "plt.show()"
   ],
   "metadata": {
    "collapsed": false
   }
  },
  {
   "cell_type": "code",
   "execution_count": null,
   "outputs": [],
   "source": [
    "fig,ax = plt.subplots()\n",
    "ax.grid(False)\n",
    "ax.set_xlim(0,15)\n",
    "\n",
    "sbn.lineplot(df[df[\"experiment\"]==\"F1-min\"],x=\"generation\",y=\"TRANSFORMATIONS\", estimator=np.mean,\n",
    "             label=\"Transformations\",ax=ax,legend=True,color=\"olive\")\n",
    "plt.legend(loc=\"upper right\")\n",
    "plt.xlabel(\"Generations\")\n",
    "\n",
    "ax2=ax.twinx()\n",
    "ax2.grid(False)\n",
    "\n",
    "ax2.set_ylabel(\"Score\")\n",
    "sbn.lineplot(df[df[\"experiment\"]==\"F1-min\"],x=\"generation\",y=\"MRR\", estimator=np.median,\n",
    "             label=\"MRR-Score\",ax=ax2,legend=True,color=\"goldenrod\")\n",
    "sbn.lineplot(df[df[\"experiment\"]==\"F1-min\"],x=\"generation\",y=\"F1\", estimator=np.median,\n",
    "             label=\"F1-Score\",ax=ax2,legend=True,color=\"lightseagreen\")\n",
    "\n",
    "plt.legend(loc=\"upper left\")\n",
    "plt.title(\"Comparison of growing Transformations and rising MRR-Score\")\n",
    "\n",
    "plt.savefig(\"./figures/comparison-scores-and-ts-for-f1-min.png\")\n",
    "\n",
    "plt.show()"
   ],
   "metadata": {
    "collapsed": false
   }
  },
  {
   "cell_type": "markdown",
   "source": [
    "## Notes\n",
    "\n",
    "Things I saw / take away from plots:\n",
    "\n",
    "- There are two interesting values, F1 and MRR both for F1-max.\n",
    "- MRR seems to be shaky but not moving much, this could be because the model was trained with F1\n",
    "- More movement with more generations\n",
    "- There is a base-line jump for MRR min and max experiments?\n",
    "- The F1 min maximizes MRR ...\n",
    "- Genetic reaches less generations than random\n",
    "- F1-max has a slight peak upwards, likely because not all seeds reached the generation 14 (the peak upwards is only for avg, not for median)\n",
    "-"
   ],
   "metadata": {
    "collapsed": false
   }
  },
  {
   "cell_type": "markdown",
   "source": [
    "## Deprecated Plots"
   ],
   "metadata": {
    "collapsed": false
   }
  },
  {
   "cell_type": "code",
   "execution_count": null,
   "outputs": [],
   "source": [
    "'''\n",
    "sbn.relplot(data=df,x=\"generation\",y=\"MRR\", hue=\"algorithm\")\n",
    "\n",
    "sbn.relplot(data=df,x=\"generation\",y=\"F1\", hue=\"algorithm\")\n",
    "\n",
    "sbn.relplot(data=broader_grouped_df,x=\"generation\",y=\"F1\", hue=\"experiment\")\n",
    "\n",
    "sbn.relplot(data=broader_grouped_df,x=\"generation\",y=\"F1\", hue=\"experiment\")\n",
    "\n",
    "sbn.histplot(data=df[df[\"experiment\"]==\"F1-min\"],x=\"TRANSFORMATIONS\")\n",
    "\n",
    "sbn.histplot(data=df[df[\"experiment\"]==\"random-F1-min\"],x=\"TRANSFORMATIONS\")\n",
    "\n",
    "sbn.lineplot(df[df[\"experiment\"]==\"F1-min\"],x=\"generation\",y=\"TRANSFORMATIONS\")\n",
    "'''"
   ],
   "metadata": {
    "collapsed": false
   }
  },
  {
   "cell_type": "code",
   "execution_count": null,
   "outputs": [],
   "source": [
    "#for exp in all_experiments:\n",
    "#    sbn.relplot(data=broader_grouped_df[broader_grouped_df[\"experiment\"]==exp],x=\"generation\",y=\"F1\",kind=\"line\")\n",
    "#    plt.title(f\"F1 Score for {exp}\")\n",
    "#    plt.show()\n",
    "#\n",
    "#\n",
    "#for exp in all_experiments:\n",
    "#    sbn.relplot(data=broader_grouped_df[broader_grouped_df[\"experiment\"]==exp],x=\"generation\",y=\"MRR\",kind=\"line\")\n",
    "#    plt.title(f\"MRR Score for {exp}\")\n",
    "#    plt.show()"
   ],
   "metadata": {
    "collapsed": false
   }
  },
  {
   "cell_type": "code",
   "execution_count": null,
   "outputs": [],
   "source": [
    "'''\n",
    "# This was meant to help me with making a nice curve for the comparison transformers <> f1, but didn't work well\n",
    "\n",
    "helper_df = broader_grouped_df[broader_grouped_df[\"experiment\"]==\"F1-min\"].sort_values(\"generation\")\n",
    "\n",
    "ts = list(helper_df[\"TRANSFORMATIONS\"])\n",
    "f1s = list(helper_df[\"F1\"])\n",
    "\n",
    "num_items = len(ts)\n",
    "\n",
    "tss = [ts[0],ts[6],ts[9],ts[12],ts[16]]\n",
    "f1ss = [f1s[0],f1s[6],f1s[9],f1s[12],f1s[16]]\n",
    "\n",
    "\n",
    "\n",
    "f = interpolate.interp1d(np.arange(0,len(tss)), tss,fill_value=\"extrapolate\")\n",
    "h = interpolate.interp1d(np.arange(0,len(f1ss)), f1ss,fill_value=\"extrapolate\")\n",
    "\n",
    "xnew = np.arange(0, 12, 0.1)\n",
    "ynew = f(xnew)   # use interpolation function returned by `interp1d`\n",
    "plt.plot(xnew, ynew, '-')\n",
    "plt.show()\n",
    "'''"
   ],
   "metadata": {
    "collapsed": false
   }
  }
 ],
 "metadata": {
  "kernelspec": {
   "display_name": "Python 3",
   "language": "python",
   "name": "python3"
  },
  "language_info": {
   "codemirror_mode": {
    "name": "ipython",
    "version": 2
   },
   "file_extension": ".py",
   "mimetype": "text/x-python",
   "name": "python",
   "nbconvert_exporter": "python",
   "pygments_lexer": "ipython2",
   "version": "2.7.6"
  }
 },
 "nbformat": 4,
 "nbformat_minor": 0
}
