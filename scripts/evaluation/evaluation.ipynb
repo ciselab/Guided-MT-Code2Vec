{
 "cells": [
  {
   "cell_type": "markdown",
   "metadata": {
    "collapsed": true,
    "pycharm": {
     "name": "#%% md\n"
    }
   },
   "source": [
    "# Guided-MT Code2Vec Evaluation\n",
    "\n",
    "This Notebook runs over the experiment-outputs, extracts data and makes plots.\n",
    "\n",
    "Expected Layout:\n",
    "\n",
    "```\n",
    ".\n",
    "├── README.md\n",
    "├── data\n",
    "│   └── random-MRR-max\n",
    "│       ├── seed-2880\n",
    "│       │   ├── data\n",
    "│       │   │   ├── gen0\n",
    "│       │   │   │   ├── 3b2459\n",
    "│       │   │   │   ├── 3b2459.json\n",
    "│       │   │   │   ├── 447e22\n",
    "│       │   │   │   ├── 447e22.json\n",
    "│       │   │   │   ├── 4495c7\n",
    "│       │   │   │   ├── 4495c7.json\n",
    "│       │   │   │   ├── 52667b\n",
    "│       │   │   │   ├── 52667b.json\n",
    "│       │   │   │   ├── 6855ba\n",
    "│       │   │   │   ├── 6855ba.json\n",
    "│       │   │   │   ├── 68ec75\n",
    "│       │   │   │   ├── 68ec75.json\n",
    "│       │   │   │   ├── 6cc14d\n",
    "│       │   │   │   ├── 6cc14d.json\n",
    "│       │   │   │   ├── 6d6845\n",
    "│       │   │   │   ├── 6d6845.json\n",
    "│       │   │   │   ├── 7a2d67\n",
    "│       │   │   │   ├── 7a2d67.json\n",
    "│       │   │   │   ├── ed0dd9\n",
    "│       │   │   │   └── ed0dd9.json\n",
    "│       │   │   ├── gen1\n",
    "│       │   │   ├── ...\n",
    "│       │   │   ├── gen8\n",
    "│       │   │   ├── ...\n",
    "│       │   │   ├── generation_0\n",
    "│       │   │   │   ├── Some.java\n",
    "│       │   │   │   ├── ...\n",
    "│       │   │   │   ├── Other.java\n",
    "│       │   │   │   └── Different.java\n",
    "│       │   │   └── initialGen\n",
    "│       │   │       └── 3bf9ce\n",
    "│       │   └── results.txt\n",
    "│       ├── seed-5142\n",
    "│           └── results.txt\n",
    "│       ...\n",
    "├── evaluation.ipynb\n",
    "└── requirements.txt\n",
    "```"
   ]
  },
  {
   "cell_type": "code",
   "execution_count": null,
   "outputs": [],
   "source": [
    "import json\n",
    "import os\n",
    "import regex as re\n",
    "import pandas as pd\n",
    "\n",
    "# Important: Specify Directory without / at the end!\n",
    "directory:str = \"./data\""
   ],
   "metadata": {
    "collapsed": false,
    "pycharm": {
     "name": "#%%\n"
    }
   }
  },
  {
   "cell_type": "code",
   "execution_count": null,
   "outputs": [],
   "source": [
    "json_files:[str] = []\n",
    "\n",
    "# iterate over files in\n",
    "# that directory\n",
    "for root, dirs, files in os.walk(directory):\n",
    "    for filename in files:\n",
    "        if \".json\" in filename:\n",
    "            json_files.append(os.path.join(root, filename))\n",
    "\n",
    "print(f\"found { len(json_files) } .json-files in {directory}\")"
   ],
   "metadata": {
    "collapsed": false,
    "pycharm": {
     "name": "#%%\n"
    }
   }
  },
  {
   "cell_type": "code",
   "execution_count": null,
   "outputs": [],
   "source": [
    "sample_path = \"./data/random-MRR-max/seed-8991/data/gen4/5f7d0f.json\"\n",
    "\n",
    "def extract_seed_from_path(path:str) -> int:\n",
    "    # TODO\n",
    "    pattern = r'seed-\\d+'\n",
    "    match = re.findall(pattern,path)[0]\n",
    "    return match[5:]\n",
    "\n",
    "def extract_experiment_from_path(path:str) -> str:\n",
    "    pattern = directory + r'.*?/seed'\n",
    "    match = re.findall(pattern,path)[0]\n",
    "    return match[len(directory)+1:-5]\n",
    "\n",
    "def extract_generation_from_path(path:str) -> int:\n",
    "    pattern = r'gen\\d+'\n",
    "    match = re.findall(pattern,path)[0]\n",
    "    return match[3:]\n",
    "\n",
    "def count_transformers(datapoint):\n",
    "    # There was an issue with the json, the genotype is just a string as some quotes were missing\n",
    "    raw = datapoint[\"genotype\"]\n",
    "    pattern = \"transformer\"\n",
    "    matches = re.findall(pattern,raw)\n",
    "    return len(matches)\n",
    "\n",
    "print(\"path:\",sample_path)\n",
    "print(\"seed:\",extract_seed_from_path(sample_path))\n",
    "print(\" exp:\",extract_experiment_from_path(sample_path))\n",
    "print(\" gen:\",extract_generation_from_path(sample_path))"
   ],
   "metadata": {
    "collapsed": false,
    "pycharm": {
     "name": "#%%\n"
    }
   }
  },
  {
   "cell_type": "code",
   "execution_count": null,
   "outputs": [],
   "source": [
    "datapoints = []\n",
    "for file in json_files:\n",
    "    with open(file) as f:\n",
    "      datapoint = json.loads(f.read())\n",
    "      datapoint[\"path\"] = file\n",
    "      datapoint[\"seed\"] = extract_seed_from_path(file)\n",
    "      datapoint[\"experiment\"] = extract_experiment_from_path(file)\n",
    "      datapoint[\"TRANSFORMATIONS\"] = count_transformers(datapoint)\n",
    "      datapoint[\"generation\"]=extract_generation_from_path(file)\n",
    "\n",
    "      datapoints.append(datapoint)"
   ],
   "metadata": {
    "collapsed": false,
    "pycharm": {
     "name": "#%%\n"
    }
   }
  },
  {
   "cell_type": "code",
   "execution_count": null,
   "outputs": [],
   "source": [
    "datapoints[1][\"genotype\"]"
   ],
   "metadata": {
    "collapsed": false,
    "pycharm": {
     "name": "#%%\n"
    }
   }
  },
  {
   "cell_type": "code",
   "execution_count": null,
   "outputs": [],
   "source": [
    "all_experiments = set([datapoint[\"experiment\"] for datapoint in datapoints])\n",
    "all_seeds = set([datapoint[\"seed\"] for datapoint in datapoints])\n",
    "all_metrics = [\"F1\",\"MRR\",\"EDITDIST\",\"PMRR\",\"REC\",\"PREC\"]\n",
    "all_transformers = [] #TBD"
   ],
   "metadata": {
    "collapsed": false,
    "pycharm": {
     "name": "#%%"
    }
   }
  },
  {
   "cell_type": "code",
   "execution_count": null,
   "outputs": [],
   "source": [
    "df = pd.DataFrame(datapoints)\n",
    "df.head()"
   ],
   "metadata": {
    "collapsed": false,
    "pycharm": {
     "name": "#%%\n"
    }
   }
  }
 ],
 "metadata": {
  "kernelspec": {
   "display_name": "Python 3",
   "language": "python",
   "name": "python3"
  },
  "language_info": {
   "codemirror_mode": {
    "name": "ipython",
    "version": 2
   },
   "file_extension": ".py",
   "mimetype": "text/x-python",
   "name": "python",
   "nbconvert_exporter": "python",
   "pygments_lexer": "ipython2",
   "version": "2.7.6"
  }
 },
 "nbformat": 4,
 "nbformat_minor": 0
}